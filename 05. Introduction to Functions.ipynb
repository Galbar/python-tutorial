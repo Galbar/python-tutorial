{
 "cells": [
  {
   "cell_type": "markdown",
   "metadata": {},
   "source": [
    "# Introduction to Functions\n",
    "\n",
    "Until now we've been writing very small programs that we can understand by just looking at them. They are not very long and not very complex.\n",
    "\n",
    "As we make more complicated programs we'll start having trouble following the code: _What is the current state of my 5 mutable variables in line 42?_.\n",
    "\n",
    "Maybe you have a two or three flow control statements before it that change the state in slightly differen ways.\n",
    "\n",
    "Maybe you just need to repeat the same transformation multiple times in different places and after three copy-pastes it's started to become difficult to keep them in sync.\n",
    "\n",
    "Or you just want to give a proper name to a set of transformations.\n",
    "\n",
    "Worry not! We have __functions__ to help us!"
   ]
  },
  {
   "cell_type": "code",
   "execution_count": 1,
   "metadata": {},
   "outputs": [],
   "source": [
    "def is_contained(element, collection):\n",
    "    for item in collection:\n",
    "        if item == element:\n",
    "            return true\n",
    "        \n",
    "    return false"
   ]
  },
  {
   "cell_type": "markdown",
   "metadata": {},
   "source": [
    "What is a function, you say?\n",
    "\n",
    "A function is a way the programming language gives us to pack statements together, give a proper name to the transformation they produce together and define the input and output of such transformation.\n",
    "\n",
    "For example the function `contains` above. Just by looking at the first line (function signature), and without looking at is body, we can deduce a lot of what we can expect it to do.\n",
    "\n",
    "The name starts with `is_` this tells us it is asking a question and that it probably returns a boolean resutl (True or False).\n",
    "\n",
    "We can read it almost literally and understand what the code block in it does: _**is contained** this **element** in this **collection**?_ If we arrange the words a little bit more we get: _**Is** this **element** **contained** in this **collection**?_\n",
    "\n",
    "We can do a good guess on what it expects as input: **element** and **collection**. The names of the arguments can give us good clues of what the function expect them to be and what it will to with them. For instance, in this case we can gues that the **collection** is a container, probably a **list** or a **set** (it could be a dictionary, but then it would make more sense if the first parameter was named _key_ instead of _element_). We can then guess that **element** must be the thing that may be contained in the **collection**.\n",
    "\n",
    "How cool is that? We can now know what the many lines bellow by just reading the function signature! 🤯"
   ]
  },
  {
   "cell_type": "markdown",
   "metadata": {},
   "source": [
    "## The Structure of a Function\n",
    "\n",
    "Before we start writing functions, lets first look more in detail how to declare a function. It is actually quite simple:\n",
    "\n",
    "* Start the line with `def`. This tells the Python interpreter that what comes next is the **definition** (`def` in short) of a function.\n",
    "* After `def` comes the **name** of the function. We will use the **name** to invoque the function from other parts of the program.\n",
    "* Next come the function **arguments**. They are a list of comma-separated names that we give to the inputs of the function, surrounded with parenthesis `()`.\n",
    "* We finish the signature definition of the function with a colon `:`. This indicates that we are ready to start writing the **body** of the function.\n",
    "* Finally, we arrive to the **body** of the function. Here we write all the statements that compose the function logic. We indicate Python that statements are part of the function by adding one level of indentation (spaces before the start of the line, usually 4) to them. We tell Python that we are done with the body of the function when we go back to writing statements with less indentation than the function body.\n",
    "\n",
    "We can indicate that the code execution for the function finishes at any point by writing `return`. `return` tells Python that the function has finished running and that it can **return** to the place in the code where it was called. In case we wish to pass a result back to the caller, we may add the value next to the `return`: `return 5`.\n",
    "\n",
    "Lets see what it looks like:"
   ]
  },
  {
   "cell_type": "code",
   "execution_count": 2,
   "metadata": {},
   "outputs": [],
   "source": [
    "def add(left, right):\n",
    "    return left + right"
   ]
  },
  {
   "cell_type": "markdown",
   "metadata": {},
   "source": [
    "We just defined a function named `add` with arguments `left` and `right`. It's **body** is composed of one statement that is a `return` statement. Because the return has an expression next to it, it will tell Python that the result of such expression must be returned to the caller.\n",
    "\n",
    "Cool. What does it mean that the return expression is returned to the caller? See the example bellow:"
   ]
  },
  {
   "cell_type": "code",
   "execution_count": 3,
   "metadata": {},
   "outputs": [
    {
     "name": "stdout",
     "output_type": "stream",
     "text": [
      "4\n",
      "9\n"
     ]
    }
   ],
   "source": [
    "sum1 = add(1, 3)\n",
    "\n",
    "sum2 = add(sum1, 5)\n",
    "\n",
    "print(sum1)\n",
    "print(sum2)"
   ]
  },
  {
   "cell_type": "markdown",
   "metadata": {},
   "source": [
    "Here, in the first line we are declaring a variable named `sum1` and we are assigning to it the value returned by the function `add` when called with the arguments `left=1` and `right=3`. Next we call `add` again, this time with arguments `left=sum1` and `right=5` and assign the result to `sum2`."
   ]
  },
  {
   "cell_type": "markdown",
   "metadata": {},
   "source": [
    "## Recursive Functions\n",
    "\n",
    "A recursive function is a function that, inside its body, calls itself. Lets see an example:"
   ]
  },
  {
   "cell_type": "code",
   "execution_count": 4,
   "metadata": {},
   "outputs": [
    {
     "name": "stdout",
     "output_type": "stream",
     "text": [
      "0\n",
      "1\n",
      "2\n",
      "3\n",
      "4\n",
      "5\n"
     ]
    }
   ],
   "source": [
    "def count(number):\n",
    "    if number == 0:  # Base case\n",
    "        print(0)\n",
    "        return\n",
    "    \n",
    "    count(number-1)  # Here is the recursive call\n",
    "    print(number)\n",
    "    \n",
    "count(5)"
   ]
  },
  {
   "cell_type": "markdown",
   "metadata": {},
   "source": [
    "As you can see the function `count` above, inside its body, calls itself: `count(number-1)`.\n",
    "\n",
    "One thing to consider **always** when writing a recursive function is the **base case**. The **base case** is the condition that breaks the recurtion and lets the call end. Otherwise you'll get an infinite recursion and you program may hang or crash.\n",
    "\n",
    "In the case of `count` we check if `number` is `0` because we know that, for all positive numbers, if we keep substracting `1` eventually we'll arrive to `0` and the recursion will end. If, instead, the number used to call `count` is negative, it becomes an infinite recursion. Be careful when implementing recursive functions for these reasons."
   ]
  },
  {
   "cell_type": "markdown",
   "metadata": {},
   "source": [
    "## Exercises\n",
    "\n",
    "\n",
    "**Exercise 1:** Implement the body of the function `multiply`. As its name indicates, it returns the product of `a` and `b`: "
   ]
  },
  {
   "cell_type": "code",
   "execution_count": null,
   "metadata": {},
   "outputs": [],
   "source": [
    "def multiply(a, b):\n",
    "    ...\n",
    "    \n",
    "assert(multiply(3, 5) == 15)\n",
    "assert(multiply(13, 89) == 1157)"
   ]
  },
  {
   "cell_type": "markdown",
   "metadata": {},
   "source": [
    "**Exercise 2:** Implement the body of the function `fibonacci`. Given a number `n` it must calculate the n-th [fibonacci number](https://en.wikipedia.org/wiki/Fibonacci_number) (hint: recursion):"
   ]
  },
  {
   "cell_type": "code",
   "execution_count": null,
   "metadata": {},
   "outputs": [],
   "source": [
    "def fibonacci(n):\n",
    "    ...\n",
    "    \n",
    "assert(fibonacci(15) == 610)\n",
    "assert(fibonacci(7) == 13)\n",
    "assert(fibonacci(13) == 233)"
   ]
  }
 ],
 "metadata": {
  "kernelspec": {
   "display_name": "Python 3",
   "language": "python",
   "name": "python3"
  },
  "language_info": {
   "codemirror_mode": {
    "name": "ipython",
    "version": 3
   },
   "file_extension": ".py",
   "mimetype": "text/x-python",
   "name": "python",
   "nbconvert_exporter": "python",
   "pygments_lexer": "ipython3",
   "version": "3.7.6"
  }
 },
 "nbformat": 4,
 "nbformat_minor": 2
}
