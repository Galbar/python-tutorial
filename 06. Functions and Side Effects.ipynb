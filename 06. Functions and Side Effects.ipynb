{
 "cells": [
  {
   "cell_type": "markdown",
   "metadata": {},
   "source": [
    "# 06. Functions and Side Effects\n",
    "\n",
    "This section is basically a warning. A warning on mixing mutable data and functions. It can be very useful but, more frequent than not, it make the program harder to reason about.\n",
    "\n",
    "Lets see this with examples. Consider the following function:"
   ]
  },
  {
   "cell_type": "code",
   "execution_count": 1,
   "metadata": {},
   "outputs": [],
   "source": [
    "seen_items = []\n",
    "\n",
    "def have_i_seen_the_item(item):\n",
    "    result = item in seen_items\n",
    "    \n",
    "    if not result:\n",
    "        seen_items.append(item)\n",
    "        \n",
    "    return result"
   ]
  },
  {
   "cell_type": "markdown",
   "metadata": {},
   "source": [
    "In the example above we have a function that tracks if we have seen a value and returns whether we've seen it. Cool, it seems to do what it is meant to:"
   ]
  },
  {
   "cell_type": "code",
   "execution_count": 2,
   "metadata": {},
   "outputs": [
    {
     "name": "stdout",
     "output_type": "stream",
     "text": [
      "False\n",
      "True\n"
     ]
    }
   ],
   "source": [
    "print(have_i_seen_the_item(1))\n",
    "print(have_i_seen_the_item(1))"
   ]
  },
  {
   "cell_type": "markdown",
   "metadata": {},
   "source": [
    "What is the problem with it you may ask? Well, you now have a **function that behaves differently for the same input** depending on an opaque state (opaque in the sense that it is not obvious the function has a state by looking at its signature). More over, you may have other functions that depend on such state and that don't look trivially connected. This is what we call a side effect:"
   ]
  },
  {
   "cell_type": "code",
   "execution_count": 3,
   "metadata": {},
   "outputs": [],
   "source": [
    "def print_not_seen_item(item):\n",
    "    if not have_i_seen_the_item(item):\n",
    "        print(item)\n",
    "\n",
    "        \n",
    "for item in [1, 2, 3, 4, 5]:\n",
    "    if not have_i_seen_the_item(item):\n",
    "        print_not_seen_item(item)"
   ]
  },
  {
   "cell_type": "markdown",
   "metadata": {},
   "source": [
    "Here we have a function that is named `print_not_seen_item(item)` the name tells us that that is the function we want to call when we want to print a not seen item. So that is what we do. The fact that it makes sure we are not trying to print a seen item is an implementation detail but because `have_i_seen_the_item(item)` has a hidden state it becomes relevant how the later behaves to understand the behaviour of the first one. This is the risk of having side effects.\n",
    "\n",
    "Now imagine having to understand all the implementation details for all your functions in your program of three thousand lines of code divided across 20 files. Madness! It becomes really hard to extend your program.\n",
    "\n",
    "Ok, fine, hidden mutable state is bad. How can we do better?\n",
    "\n",
    "Consider the example bellow, it implements the same behaviour as the functions above but there is no hidden state. In fact we make it explicit:"
   ]
  },
  {
   "cell_type": "code",
   "execution_count": 4,
   "metadata": {},
   "outputs": [
    {
     "name": "stdout",
     "output_type": "stream",
     "text": [
      "1\n",
      "2\n",
      "3\n",
      "4\n",
      "5\n"
     ]
    }
   ],
   "source": [
    "def new_have_i_seen_the_item(item, seen_items):\n",
    "    return item in seen_items\n",
    "\n",
    "\n",
    "def new_print_not_seen_item(item, seen_items):\n",
    "    if not new_have_i_seen_the_item(item, seen_items):\n",
    "        print(item)\n",
    "        \n",
    "def update_seen_items(item, seen_items):\n",
    "    seen_items.append(item)\n",
    "\n",
    "new_seen_items = []\n",
    "\n",
    "for item in [1, 2, 3, 4, 5]:\n",
    "    if not new_have_i_seen_the_item(item, new_seen_items):\n",
    "        new_print_not_seen_item(item, new_seen_items)\n",
    "        update_seen_items(item, new_seen_items)"
   ]
  },
  {
   "cell_type": "markdown",
   "metadata": {},
   "source": [
    "The main difference in the example above is that the state is explicitly stated and, more importantly, **the state** is not changed as an extra functionality of a function but it **is explicitly updated in a function that states that it does so**."
   ]
  }
 ],
 "metadata": {
  "kernelspec": {
   "display_name": "Python 3",
   "language": "python",
   "name": "python3"
  },
  "language_info": {
   "codemirror_mode": {
    "name": "ipython",
    "version": 3
   },
   "file_extension": ".py",
   "mimetype": "text/x-python",
   "name": "python",
   "nbconvert_exporter": "python",
   "pygments_lexer": "ipython3",
   "version": "3.7.6"
  }
 },
 "nbformat": 4,
 "nbformat_minor": 2
}
