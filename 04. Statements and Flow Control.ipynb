{
 "cells": [
  {
   "cell_type": "markdown",
   "metadata": {},
   "source": [
    "# 04. Statements and Flow Control\n",
    "\n",
    "A program is made of statements. Statements allow us to do value assignments, operate over data with expressions, do function calls and define functions and classes.\n",
    "\n",
    "In this notebook we'll go over the most used statements."
   ]
  },
  {
   "cell_type": "markdown",
   "metadata": {},
   "source": [
    "## The Assignment Statement\n",
    "\n",
    "In previous notebooks we've seen the **assignment** statement. Its structure is:\n",
    "```\n",
    "(name) = (expression)\n",
    "```\n",
    "\n",
    "Some examples of this statement are:\n",
    "* `number_of_dogs = 3`\n",
    "* `dogs['marta'] = 2 * number_of_dogs`\n",
    "* `marta.dogs[0] = Dog(name='Coco', age=5)`\n",
    "\n",
    "What this statement does is **assign** the result of the _expression_ on the right side of the `=` to the _name_ on the left side of the `=`.\n",
    "\n",
    "In practice, it lets you give meaningfull names to expressions and store values for later use.\n",
    "\n",
    "Usage example:"
   ]
  },
  {
   "cell_type": "code",
   "execution_count": 1,
   "metadata": {},
   "outputs": [
    {
     "name": "stdout",
     "output_type": "stream",
     "text": [
      "42\n",
      "{'Max', 'Ruby'}\n"
     ]
    }
   ],
   "source": [
    "number = 42\n",
    "dogs = {}\n",
    "dogs['marta'] = {'Max', 'Ruby'}\n",
    "\n",
    "print(number)  # this will print '42' because we assigned 42 to number\n",
    "print(dogs['marta'])  # this will print '{'Max', 'Ruby'}' as that is\n",
    "                      # the value assigned to the key 'marta' in the dict 'dogs'"
   ]
  },
  {
   "cell_type": "markdown",
   "metadata": {},
   "source": [
    "## The If Statement\n",
    "\n",
    "Often, we want to do different operations depending on the value of a expression. The **if** statement lets us define an expression that when true will let the program run the code inside it. Its structure is:\n",
    "\n",
    "```\n",
    "if (expression1):\n",
    "    (statements...)\n",
    "[elif (expression2):\n",
    "    (statements2...)\n",
    "...]\n",
    "[else:\n",
    "    (statements3...)]\n",
    "```\n",
    "\n",
    "Ok, that ended up being more complicated than I expected. Lets see some examples:\n",
    "\n",
    "* Simple if. When `roses_are_red` has the value `True` then it will print _Roses are red!_"
   ]
  },
  {
   "cell_type": "code",
   "execution_count": 2,
   "metadata": {},
   "outputs": [
    {
     "name": "stdout",
     "output_type": "stream",
     "text": [
      "Before\n",
      "Roses are red!\n",
      "After\n"
     ]
    }
   ],
   "source": [
    "roses_are_red = True\n",
    "\n",
    "print('Before')\n",
    "if roses_are_red:\n",
    "    print('Roses are red!')\n",
    "print('After')"
   ]
  },
  {
   "cell_type": "code",
   "execution_count": 3,
   "metadata": {},
   "outputs": [
    {
     "name": "stdout",
     "output_type": "stream",
     "text": [
      "Before\n",
      "After\n"
     ]
    }
   ],
   "source": [
    "roses_are_red = False\n",
    "\n",
    "print('Before')\n",
    "if roses_are_red:\n",
    "    print('Roses are red!')\n",
    "print('After')"
   ]
  },
  {
   "cell_type": "markdown",
   "metadata": {},
   "source": [
    "* If...else. When `roses_are_red` has the value `True` then it will print _Roses are red!_ ; otherwise, if `roses_are_red` is `False`, print _Roses are NOT red!_."
   ]
  },
  {
   "cell_type": "code",
   "execution_count": 4,
   "metadata": {},
   "outputs": [
    {
     "name": "stdout",
     "output_type": "stream",
     "text": [
      "Before\n",
      "Roses are red!\n",
      "After\n"
     ]
    }
   ],
   "source": [
    "roses_are_red = True\n",
    "\n",
    "print('Before')\n",
    "if roses_are_red:\n",
    "    print('Roses are red!')\n",
    "else:\n",
    "    print('Roses are NOT red!')\n",
    "print('After')"
   ]
  },
  {
   "cell_type": "code",
   "execution_count": 5,
   "metadata": {},
   "outputs": [
    {
     "name": "stdout",
     "output_type": "stream",
     "text": [
      "Before\n",
      "Roses are NOT red!\n",
      "After\n"
     ]
    }
   ],
   "source": [
    "roses_are_red = False\n",
    "\n",
    "print('Before')\n",
    "if roses_are_red:\n",
    "    print('Roses are red!')\n",
    "else:\n",
    "    print('Roses are NOT red!')\n",
    "print('After')"
   ]
  },
  {
   "cell_type": "markdown",
   "metadata": {},
   "source": [
    "* If...elif...else. **If** `roses_color` has the value _red_ then it will print _Roses are red!_; **else, if** (elif) `roses_color` has the value _purple_ then it will print _These are some weird roses_; **else**, if neither of the previous conditions are met, it will print _Roses are neither red nor weird_."
   ]
  },
  {
   "cell_type": "code",
   "execution_count": 6,
   "metadata": {},
   "outputs": [
    {
     "name": "stdout",
     "output_type": "stream",
     "text": [
      "Before\n",
      "Roses are red!\n",
      "After\n"
     ]
    }
   ],
   "source": [
    "roses_color = 'red'\n",
    "\n",
    "print('Before')\n",
    "if roses_color == 'red':  # Here `==` meas _is equals to_. We are comparing the values.\n",
    "    print('Roses are red!')\n",
    "elif roses_color == 'purple':\n",
    "    print('These are some weird roses')\n",
    "else:\n",
    "    print('Roses are neither red nor weird')\n",
    "print('After')"
   ]
  },
  {
   "cell_type": "code",
   "execution_count": 7,
   "metadata": {},
   "outputs": [
    {
     "name": "stdout",
     "output_type": "stream",
     "text": [
      "Before\n",
      "These are some weird roses\n",
      "After\n"
     ]
    }
   ],
   "source": [
    "roses_color = 'purple'\n",
    "\n",
    "print('Before')\n",
    "if roses_color == 'red':\n",
    "    print('Roses are red!')\n",
    "elif roses_color == 'purple':\n",
    "    print('These are some weird roses')\n",
    "else:\n",
    "    print('Roses are neither red nor weird')\n",
    "print('After')"
   ]
  },
  {
   "cell_type": "code",
   "execution_count": 8,
   "metadata": {},
   "outputs": [
    {
     "name": "stdout",
     "output_type": "stream",
     "text": [
      "Before\n",
      "Roses are neither red nor weird\n",
      "After\n"
     ]
    }
   ],
   "source": [
    "roses_color = 'orange'\n",
    "\n",
    "print('Before')\n",
    "if roses_color == 'red':\n",
    "    print('Roses are red!')\n",
    "elif roses_color == 'purple':\n",
    "    print('These are some weird roses')\n",
    "else:\n",
    "    print('Roses are neither red nor weird')\n",
    "print('After')"
   ]
  },
  {
   "cell_type": "markdown",
   "metadata": {},
   "source": [
    "### Boolean Operations\n",
    "\n",
    "Given that we are going to start executing code conditionally, lets have a look at the most common boolean operations that we can do:\n",
    "\n",
    "#### Comparisson\n",
    "\n",
    "* `(expr1) == (expr2)`: `True` if the value resulting of `expr1` **is equal to** the value resulting of `expr2`. Otherwise, `False`.\n",
    "* `(expr1) != (expr2)`: `True` if the value resulting of `expr1` **is not equal to** the value resulting of `expr2`. Otherwise, `False`.\n",
    "* `(expr1) < (expr2)`: `True` if the value of `expr1` **is smaller than** `expr2`. Otherwise, `False`.\n",
    "* `(expr1) <= (expr2)`: `True` if the value of `expr1` **is smaller than or equal to** `expr2`. Otherwise, `False`.\n",
    "* `(expr1) > (expr2)`: `True` if the value of `expr1` **is greater than** `expr2`. Otherwise, `False`.\n",
    "* `(expr1) >= (expr2)`: `True` if the value of `expr1` **is greater than or equal to** `expr2`. Otherwise, `False`.\n",
    "\n",
    "#### Negation\n",
    "\n",
    "* `not (expr)`: `True` if the result of `expr` is `False`. `False` otherwise.\n",
    "\n",
    "#### Boolean Operators\n",
    "\n",
    "* `(expr1) and (expr2)`: `True` if **both** `expr1` and `expr2` have value `True`. In any other case `False`.\n",
    "* `(expr1) or (expr2)`: `True` if **any** of `expr1` and `expr2` have value `True`. If both are `False`, then the result is `False`"
   ]
  },
  {
   "cell_type": "markdown",
   "metadata": {},
   "source": [
    "## The For Loop Statement\n",
    "\n",
    "Sometimes we have a container (be it a `list`, a `set`, a `dict`, or any _iterable_) and we want to go over all elements contained in it and operate with them. This is where the **for** loop comes into play. Its structure is:\n",
    "\n",
    "```\n",
    "for (name) in (iterable):\n",
    "    (statements...)\n",
    "```\n",
    "\n",
    "Some examples:\n",
    "\n",
    "* Add all elements in a list:"
   ]
  },
  {
   "cell_type": "code",
   "execution_count": 9,
   "metadata": {},
   "outputs": [
    {
     "name": "stdout",
     "output_type": "stream",
     "text": [
      "35\n"
     ]
    }
   ],
   "source": [
    "sum = 0\n",
    "list = [1, 5, 10, 4, 7, 8]\n",
    "for element in list:\n",
    "    sum = sum + element\n",
    "\n",
    "print(sum)"
   ]
  },
  {
   "cell_type": "markdown",
   "metadata": {},
   "source": [
    "* Print all key-values in a dict:"
   ]
  },
  {
   "cell_type": "code",
   "execution_count": 10,
   "metadata": {},
   "outputs": [
    {
     "name": "stdout",
     "output_type": "stream",
     "text": [
      "name value\n",
      "4 four\n",
      "apple 8.34\n"
     ]
    }
   ],
   "source": [
    "dict = {'name': 'value', 4: 'four', 'apple': 8.34}\n",
    "for key in dict:\n",
    "    print(key, dict[key])"
   ]
  },
  {
   "cell_type": "markdown",
   "metadata": {},
   "source": [
    "### Breaking the Loop\n",
    "\n",
    "Sometimes, we don't want to iterate over all elements of a collection. For example, if we want to check if a value is contained in a list we don't need to look at all the list. As soon as we find the value we know that it is indeed inside of it and we can stop the search. In these cases we can use **break**.\n",
    "\n",
    "Example:"
   ]
  },
  {
   "cell_type": "code",
   "execution_count": 11,
   "metadata": {},
   "outputs": [
    {
     "name": "stdout",
     "output_type": "stream",
     "text": [
      "saw 1\n",
      "saw 4\n",
      "found: True\n"
     ]
    }
   ],
   "source": [
    "value = 5\n",
    "found = False\n",
    "list = [1, 4, 5, 6, 8]\n",
    "for x in list:\n",
    "    if x == value:\n",
    "        found = True\n",
    "        break\n",
    "    print('saw', x)\n",
    "    \n",
    "print('found:', found)"
   ]
  },
  {
   "cell_type": "markdown",
   "metadata": {},
   "source": [
    "You can see in the example above that the loop stopped once we found that the element is in the list. Otherwise it would have printed all elements in the list before exiting the loop"
   ]
  },
  {
   "cell_type": "markdown",
   "metadata": {},
   "source": [
    "## The While Loop Statement\n",
    "\n",
    "Some other times, we want to loop over the same section of code until a condition is no longer met. For these situations we use the **while** loop. Its syntax is:\n",
    "```\n",
    "while (expr):\n",
    "    (statements...)\n",
    "```\n",
    "\n",
    "Example:"
   ]
  },
  {
   "cell_type": "code",
   "execution_count": 12,
   "metadata": {},
   "outputs": [
    {
     "name": "stdout",
     "output_type": "stream",
     "text": [
      "2\n",
      "4\n",
      "8\n",
      "16\n",
      "32\n",
      "64\n",
      "128\n"
     ]
    }
   ],
   "source": [
    "value = 1\n",
    "while value < 100:\n",
    "    value = 2 * value\n",
    "    print(value)"
   ]
  },
  {
   "cell_type": "markdown",
   "metadata": {},
   "source": [
    "As in the **for** loop, you may also use **break** to immediately stop a **while** loop. Example:"
   ]
  },
  {
   "cell_type": "code",
   "execution_count": 13,
   "metadata": {},
   "outputs": [
    {
     "name": "stdout",
     "output_type": "stream",
     "text": [
      "2\n",
      "4\n",
      "8\n",
      "16\n",
      "done\n"
     ]
    }
   ],
   "source": [
    "value = 1\n",
    "while value < 100:\n",
    "    value = 2 * value\n",
    "    if value == 32:\n",
    "        print('done')\n",
    "        break\n",
    "    print(value)"
   ]
  },
  {
   "cell_type": "markdown",
   "metadata": {},
   "source": [
    "## Other statements\n",
    "\n",
    "There are other type of statements. In the following notebooks we'll have a deeper look at the **function definition** and **class declaration** statements."
   ]
  },
  {
   "cell_type": "markdown",
   "metadata": {},
   "source": [
    "## Exercises\n",
    "\n",
    "\n",
    "**Exercise 1:** Using a for loop, find the position of `'find me'` in the given list:"
   ]
  },
  {
   "cell_type": "code",
   "execution_count": null,
   "metadata": {},
   "outputs": [],
   "source": [
    "l = ['apple', 'banana', 'pineapple', 'find me', 'pear', 'strawberry']\n",
    "\n",
    "for x in l:\n",
    "    ...\n",
    "    position = ...\n",
    "    ...\n",
    "    \n",
    "assert(position == 3)"
   ]
  },
  {
   "cell_type": "markdown",
   "metadata": {},
   "source": [
    "**Exercise 2:** Using a for while loop, print the multiplication table of eight:"
   ]
  },
  {
   "cell_type": "code",
   "execution_count": null,
   "metadata": {},
   "outputs": [],
   "source": [
    "while ...:\n",
    "    print(...)"
   ]
  }
 ],
 "metadata": {
  "kernelspec": {
   "display_name": "Python 3",
   "language": "python",
   "name": "python3"
  },
  "language_info": {
   "codemirror_mode": {
    "name": "ipython",
    "version": 3
   },
   "file_extension": ".py",
   "mimetype": "text/x-python",
   "name": "python",
   "nbconvert_exporter": "python",
   "pygments_lexer": "ipython3",
   "version": "3.7.6"
  }
 },
 "nbformat": 4,
 "nbformat_minor": 2
}
