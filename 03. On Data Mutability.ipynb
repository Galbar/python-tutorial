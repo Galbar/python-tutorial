{
 "cells": [
  {
   "cell_type": "markdown",
   "metadata": {},
   "source": [
    "# 03. On Data Mutability\n",
    "\n",
    "Mutable data is the data whose value changes as the program progresses.\n",
    "Immutable data is the data that once introduced in the program never changes.\n",
    "\n",
    "That's easy! But what does it mean?\n",
    "\n",
    "Lets see with lists:"
   ]
  },
  {
   "cell_type": "code",
   "execution_count": 1,
   "metadata": {
    "scrolled": true
   },
   "outputs": [
    {
     "name": "stdout",
     "output_type": "stream",
     "text": [
      "l is a list that is empty: []\n",
      "we have added two elements to the list: ['a', 'b']\n",
      "we changed the value of the first element: ['z', 'b']\n"
     ]
    }
   ],
   "source": [
    "l = []  # create empty list\n",
    "print('l is a list that is empty: ' + str(l))\n",
    "\n",
    "l.append('a')  # we add 'a' at the end of the list\n",
    "l.append('b')  # we add 'b' at the end of the list\n",
    "print('we have added two elements to the list: ' + str(l))\n",
    "\n",
    "l[0] = 'z'  # we change the element contained in the first position from 'a' to 'z'\n",
    "print('we changed the value of the first element: ' + str(l))"
   ]
  },
  {
   "cell_type": "markdown",
   "metadata": {},
   "source": [
    "Lets see with tuples:"
   ]
  },
  {
   "cell_type": "code",
   "execution_count": 2,
   "metadata": {},
   "outputs": [
    {
     "name": "stdout",
     "output_type": "stream",
     "text": [
      "we have created a tuple: ('a', 2, False)\n",
      "trying to change the first element of the tuple raised the following error: 'tuple' object does not support item assignment\n"
     ]
    }
   ],
   "source": [
    "t = ('a', 2, False)\n",
    "print('we have created a tuple: ' + str(t))\n",
    "\n",
    "try :\n",
    "    t[0] = 'b'  # trying to change the first element from 'a' to 'b' raises an error\n",
    "except TypeError as e:\n",
    "    print('trying to change the first element of the tuple raised the following error: ' + str(e))"
   ]
  },
  {
   "cell_type": "markdown",
   "metadata": {},
   "source": [
    "As we can see above, we were able to change the data represented in the list but not in the tuple. Therefore, the list is mutable and the tuple is immutable.\n",
    "\n",
    "## Mutability and Immutability in Custom Data Classes\n",
    "\n",
    "Defining mutable custom data classes is easy, we already did in a previous notebook:"
   ]
  },
  {
   "cell_type": "code",
   "execution_count": 3,
   "metadata": {},
   "outputs": [
    {
     "name": "stdout",
     "output_type": "stream",
     "text": [
      "Before: Mutable(value=1)\n",
      "After: Mutable(value=4)\n",
      "Before: Immutable(value=2)\n",
      "Error raised when assiging a new value: cannot assign to field 'value'\n"
     ]
    }
   ],
   "source": [
    "from dataclasses import dataclass, FrozenInstanceError\n",
    "\n",
    "@dataclass\n",
    "class Mutable:\n",
    "    value: int\n",
    "        \n",
    "m = Mutable(1)\n",
    "print('Before: ' + str(m))\n",
    "m.value = 4\n",
    "print('After: ' + str(m))\n",
    "\n",
    "@dataclass(frozen=True)\n",
    "class Immutable:\n",
    "    value: int\n",
    "\n",
    "i = Immutable(2)\n",
    "print('Before: ' + str(i))\n",
    "try:\n",
    "    i.value = 3\n",
    "except FrozenInstanceError as e:\n",
    "    print('Error raised when assiging a new value: ' + str(e))"
   ]
  },
  {
   "cell_type": "markdown",
   "metadata": {},
   "source": [
    "## Other Mutable and Immutable types\n",
    "\n",
    "**Mutable types**: `dictionary`, `set`\n",
    "\n",
    "**Immutable types**: `int`, `float`, `bool`, `str`"
   ]
  }
 ],
 "metadata": {
  "kernelspec": {
   "display_name": "Python 3",
   "language": "python",
   "name": "python3"
  },
  "language_info": {
   "codemirror_mode": {
    "name": "ipython",
    "version": 3
   },
   "file_extension": ".py",
   "mimetype": "text/x-python",
   "name": "python",
   "nbconvert_exporter": "python",
   "pygments_lexer": "ipython3",
   "version": "3.7.6"
  }
 },
 "nbformat": 4,
 "nbformat_minor": 2
}
