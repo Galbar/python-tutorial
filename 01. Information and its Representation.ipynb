{
 "cells": [
  {
   "cell_type": "markdown",
   "metadata": {},
   "source": [
    "# 01. Information and its Representation\n",
    "\n",
    "Informatics is about the automatic transformation (processing) of information (aka data).\n",
    "\n",
    "To be able to operate on the information, we first have to represent it in a way we can confortably work with. For example, say our information is _Marta has two dogs_. There are various ways we can represent this information."
   ]
  },
  {
   "cell_type": "markdown",
   "metadata": {},
   "source": [
    "If we only want to display it in a human-readable way, and do no other operation on it, we can just store the information in text (**string** aka `str`) form:"
   ]
  },
  {
   "cell_type": "code",
   "execution_count": 1,
   "metadata": {},
   "outputs": [
    {
     "name": "stdout",
     "output_type": "stream",
     "text": [
      "Marta has two dogs\n"
     ]
    }
   ],
   "source": [
    "information_text = \"Marta has two dogs\" # Can also be 'Marta has two dogs'. In python '' and \"\" both mean str\n",
    "\n",
    "print(information_text)"
   ]
  },
  {
   "cell_type": "markdown",
   "metadata": {},
   "source": [
    "If we want to count the dogs, to add the count to other people's dogs, we can store it in number (**integer** aka `int` or **real numbers** aka `float`) form:"
   ]
  },
  {
   "cell_type": "code",
   "execution_count": 2,
   "metadata": {},
   "outputs": [
    {
     "name": "stdout",
     "output_type": "stream",
     "text": [
      "5\n"
     ]
    }
   ],
   "source": [
    "marta_dog_count = 2\n",
    "john_dog_count = 3\n",
    "total_dog_count = marta_dog_count + john_dog_count\n",
    "\n",
    "print(total_dog_count)"
   ]
  },
  {
   "cell_type": "markdown",
   "metadata": {},
   "source": [
    "Say we want to store more information about each dog. For example, name, age in months, weight in kg and sex. For this we can use a **dictionary**. Dictionaries are objects that store information in the form of `key` -> `value`. That means that inside a dictionary there will be one value per each existing key and we can access the values by their key:"
   ]
  },
  {
   "cell_type": "code",
   "execution_count": 3,
   "metadata": {},
   "outputs": [
    {
     "name": "stdout",
     "output_type": "stream",
     "text": [
      "Coco\n",
      "Thor\n",
      "4\n"
     ]
    }
   ],
   "source": [
    "dog_1 = {\n",
    "#   key: value,\n",
    "    'name': 'Coco',     # value is `str` -> text\n",
    "    'age': 46,          # value is `int` -> integer number\n",
    "    'weight': 4.35,     # value is `float` -> real number\n",
    "    'is female': True,  # value is `bool` -> boolean value: True or False\n",
    "}\n",
    "\n",
    "dog_2 = {\n",
    "#   key: value,\n",
    "    'name': 'Thor',     # value is `str` -> text\n",
    "    'age': 34,          # value is `int` -> integer number\n",
    "    'weight': 2.94,     # value is `float` -> real number\n",
    "    'is female': False, # value is `bool` -> boolean value: True or False\n",
    "}\n",
    "\n",
    "print(dog_1['name'])\n",
    "print(dog_2['name'])\n",
    "\n",
    "# We can know the number of keys in a dictionary with the function len()\n",
    "print(len(dog_1))"
   ]
  },
  {
   "cell_type": "markdown",
   "metadata": {},
   "source": [
    "Given that both dogs are Martha's, we want to group them. This way we can separate Martha's dogs from John's. We are going to group them using a **list**. A list is a container that lets us store information in an ordered way and we can access each item with its position. In a way it is similar to the dictionary, but the keys are always integers that represent the item's position in the list:"
   ]
  },
  {
   "cell_type": "code",
   "execution_count": 4,
   "metadata": {},
   "outputs": [
    {
     "name": "stdout",
     "output_type": "stream",
     "text": [
      "{'name': 'Coco', 'age': 46, 'weight': 4.35, 'is female': True}\n",
      "{'name': 'Thor', 'age': 34, 'weight': 2.94, 'is female': False}\n",
      "2\n"
     ]
    }
   ],
   "source": [
    "martha_dogs = [dog_1, dog_2]\n",
    "\n",
    "print(martha_dogs[0])  # lists start with position 0 and end with position (list_size - 1)\n",
    "print(martha_dogs[1])\n",
    "\n",
    "\n",
    "# We can know the number of elements in a list with the function len()\n",
    "print(len(martha_dogs))"
   ]
  },
  {
   "cell_type": "markdown",
   "metadata": {},
   "source": [
    "## Exercises\n",
    "\n",
    "John has three dogs:\n",
    "* Jumper is a one year old brown Doberman\n",
    "* Fluf is a three year and a half old white Bichon Frisé\n",
    "* Spotter is a two year old grey Blue Lacy\n",
    "\n",
    "**Exercise 1:** Represent the above information for a program where we only care about the various breeds of John's dogs"
   ]
  },
  {
   "cell_type": "code",
   "execution_count": null,
   "metadata": {},
   "outputs": [],
   "source": [
    "john_dogs_breeds = "
   ]
  },
  {
   "cell_type": "markdown",
   "metadata": {},
   "source": [
    "**Exercise 2:** Represent the information for a program where we want to know John's dogs information and access it by the dog's name"
   ]
  },
  {
   "cell_type": "code",
   "execution_count": null,
   "metadata": {},
   "outputs": [],
   "source": [
    "john_dogs ="
   ]
  },
  {
   "cell_type": "markdown",
   "metadata": {},
   "source": [
    "**Exercise 3:** Represent the information for a program where we only care about the number of dogs john has"
   ]
  },
  {
   "cell_type": "code",
   "execution_count": null,
   "metadata": {},
   "outputs": [],
   "source": [
    "john_dog_count = "
   ]
  }
 ],
 "metadata": {
  "kernelspec": {
   "display_name": "Python 3",
   "language": "python",
   "name": "python3"
  },
  "language_info": {
   "codemirror_mode": {
    "name": "ipython",
    "version": 3
   },
   "file_extension": ".py",
   "mimetype": "text/x-python",
   "name": "python",
   "nbconvert_exporter": "python",
   "pygments_lexer": "ipython3",
   "version": "3.7.6"
  }
 },
 "nbformat": 4,
 "nbformat_minor": 2
}
