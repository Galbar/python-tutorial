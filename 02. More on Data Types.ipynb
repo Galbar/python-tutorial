{
 "cells": [
  {
   "cell_type": "markdown",
   "metadata": {},
   "source": [
    "# 02. More on Data Types\n",
    "\n",
    "In the previous notebook we went over numbers, text, booleans, dictionaries and lists. Here we are going to expand on other ways of representing information.\n",
    "\n",
    "Lets start with **tuples**. Tuples are like lists in the sense that they store items in a sorted manner and they can be accessed by their position in the tuple. But there are very important differences with lists: tuples are immutable (we'll expand on this in a later notebook), once created their contents can not be changed."
   ]
  },
  {
   "cell_type": "code",
   "execution_count": 1,
   "metadata": {},
   "outputs": [
    {
     "name": "stdout",
     "output_type": "stream",
     "text": [
      "1\n",
      "True\n"
     ]
    }
   ],
   "source": [
    "my_tuple = (1, 'a', True)\n",
    "\n",
    "print(my_tuple[0])\n",
    "print(my_tuple[2])"
   ]
  },
  {
   "cell_type": "markdown",
   "metadata": {},
   "source": [
    "An other useful data structure is the **set**. The set is like a dictionary but with only keys and no values. They are usefull to store information without repeating. They are also usefull to store items and check if we have stored them already or not. On the other hand ordering is not guaranteed."
   ]
  },
  {
   "cell_type": "code",
   "execution_count": 2,
   "metadata": {},
   "outputs": [
    {
     "name": "stdout",
     "output_type": "stream",
     "text": [
      "True\n",
      "False\n",
      "set()\n",
      "{1, 3, 5}\n",
      "{1, 2, 3, 4, 5, 6, 7, 8, 9, 10}\n"
     ]
    }
   ],
   "source": [
    "set_a = {1, 3, 5, 7, 9}\n",
    "set_b = {2, 4, 6, 8, 10}\n",
    "set_c = {1, 2, 3, 5, 8}\n",
    "\n",
    "print(1 in set_a)     # is 1 in set_a\n",
    "print(5 in set_b)     # is 5 in set_b\n",
    "print(set_a & set_b)  # intersection of set_a and set_b\n",
    "print(set_a & set_c)  # intersection of set_a and set_c\n",
    "print(set_a | set_b)  # union of set_a and set_b"
   ]
  },
  {
   "cell_type": "markdown",
   "metadata": {},
   "source": [
    "## Custom Data Types\n",
    "\n",
    "Until now we have been using the default data structures offered to us by Python, the language. But sometimes we want more control or just personalized structures. Python allows us to do this with classes.\n",
    "\n",
    "Imagine we want to store a date (year, month, day). With the data structures we have already seen we could do it with a tuple or a dictionary:"
   ]
  },
  {
   "cell_type": "code",
   "execution_count": 3,
   "metadata": {},
   "outputs": [],
   "source": [
    "my_date_dict = {\n",
    "    'year': 1920,\n",
    "    'month': 5,\n",
    "    'day': 13\n",
    "}\n",
    "\n",
    "my_date_tuple = (1920, 5, 13)"
   ]
  },
  {
   "cell_type": "markdown",
   "metadata": {},
   "source": [
    "That looks nice! What about accessing the information stored in our date?"
   ]
  },
  {
   "cell_type": "code",
   "execution_count": 4,
   "metadata": {},
   "outputs": [
    {
     "name": "stdout",
     "output_type": "stream",
     "text": [
      "1920\n",
      "1920\n"
     ]
    }
   ],
   "source": [
    "print(my_date_dict['year'])\n",
    "\n",
    "print(my_date_tuple[0])"
   ]
  },
  {
   "cell_type": "markdown",
   "metadata": {},
   "source": [
    "Well, not so nice.\n",
    "\n",
    "With our dictionary representation we need to add all the `[]` and the `''` and on top of that we need to remember the name of the key, otherwise we won't get the right value or none at all.\n",
    "\n",
    "With our tuple representation it is even worse! Wich position is the year at? The first one? The last one?\n",
    "\n",
    "Can we do better? Yes we can, we can define our own data classes:"
   ]
  },
  {
   "cell_type": "code",
   "execution_count": 5,
   "metadata": {},
   "outputs": [
    {
     "name": "stdout",
     "output_type": "stream",
     "text": [
      "Date(year=1920, month=5, day=13)\n"
     ]
    }
   ],
   "source": [
    "from dataclasses import dataclass\n",
    "\n",
    "@dataclass\n",
    "class Date:\n",
    "    year: int\n",
    "    month: int\n",
    "    day: int\n",
    "\n",
    "my_date = Date(1920, 5, 13)\n",
    "\n",
    "print(my_date)"
   ]
  },
  {
   "cell_type": "markdown",
   "metadata": {},
   "source": [
    "Wow! That is a lot of stuff in one go! So, what's happening here?\n",
    "\n",
    "First, we are importing the `dataclass` decorator. This decorator does a lot of things for us and basically gives the basic functionality to our data class. For now it is fine as it is, we'll go more in-depth with classes in a later notebook.\n",
    "\n",
    "Second, we define our data class `Date`. It has three fields: `year` which is an `integer`, `month` which is an `integer` and `day` which is an `integer`.\n",
    "\n",
    "Then, we are just creating a new instance of `Date` that we are naming `my_date` that represents the 13th of May of 1920.\n",
    "\n",
    "Cool! How can we access the information in our data class? Very simple:"
   ]
  },
  {
   "cell_type": "code",
   "execution_count": 6,
   "metadata": {},
   "outputs": [
    {
     "name": "stdout",
     "output_type": "stream",
     "text": [
      "1920\n"
     ]
    }
   ],
   "source": [
    "print(my_date.year)"
   ]
  },
  {
   "cell_type": "markdown",
   "metadata": {},
   "source": [
    "## Composing Data Structures\n",
    "\n",
    "Up until now we have created our custom data structures with member values are of types provided by default by the language, Python.\n",
    "\n",
    "We can also create custom data structures that contain other of our custom data types:"
   ]
  },
  {
   "cell_type": "code",
   "execution_count": 7,
   "metadata": {},
   "outputs": [
    {
     "name": "stdout",
     "output_type": "stream",
     "text": [
      "DateInterval(start=Date(year=1920, month=4, day=21), end=Date(year=1924, month=10, day=12))\n"
     ]
    }
   ],
   "source": [
    "@dataclass\n",
    "class DateInterval:\n",
    "    start: Date  # The Date class we declared earlier\n",
    "    end: Date\n",
    "        \n",
    "date_interval = DateInterval(Date(1920, 4, 21), Date(1924, 10, 12))\n",
    "print(date_interval)"
   ]
  },
  {
   "cell_type": "markdown",
   "metadata": {},
   "source": [
    "## Recursive Data Structures\n",
    "\n",
    "A recursive data structure is one that can contain an instance of the same type as itself:"
   ]
  },
  {
   "cell_type": "code",
   "execution_count": 8,
   "metadata": {},
   "outputs": [
    {
     "name": "stdout",
     "output_type": "stream",
     "text": [
      "a\n",
      "b\n",
      "c\n"
     ]
    }
   ],
   "source": [
    "from typing import Any\n",
    "\n",
    "@dataclass\n",
    "class LinkedList:\n",
    "    value: Any  # value can contain any data type\n",
    "    next: 'LinkedList'  # next contains a LinkedList but as we are in the process of declaring it,\n",
    "                        # we have to do it like so\n",
    "        \n",
    "# Creating and populating the recursive data structure\n",
    "l = LinkedList('a', None)\n",
    "l.next = LinkedList('b', None)\n",
    "l.next.next = LinkedList('c', None)\n",
    "\n",
    "# print all values contained in the recursive data structure\n",
    "k = l\n",
    "while k is not None:\n",
    "    print(k.value)\n",
    "    k = k.next"
   ]
  },
  {
   "cell_type": "markdown",
   "metadata": {},
   "source": [
    "## Exercises\n",
    "\n",
    "**Exercise 1:** Create a tuple containing the first five prime numbers and print the third"
   ]
  },
  {
   "cell_type": "code",
   "execution_count": null,
   "metadata": {},
   "outputs": [],
   "source": [
    "prime_numbers = ...\n",
    "\n",
    "print(...)"
   ]
  },
  {
   "cell_type": "markdown",
   "metadata": {},
   "source": [
    "**Exercise 2:** Create a set with three names in it and print the result of checking if `John` is in it"
   ]
  },
  {
   "cell_type": "code",
   "execution_count": null,
   "metadata": {},
   "outputs": [],
   "source": [
    "names = ...\n",
    "\n",
    "print(...)"
   ]
  },
  {
   "cell_type": "markdown",
   "metadata": {},
   "source": [
    "**Exercise 3:** Create a data class that represents a `Person`: name, surname, birth date, height, weight."
   ]
  },
  {
   "cell_type": "code",
   "execution_count": null,
   "metadata": {},
   "outputs": [],
   "source": [
    "class Person:\n",
    "    ..."
   ]
  }
 ],
 "metadata": {
  "kernelspec": {
   "display_name": "Python 3",
   "language": "python",
   "name": "python3"
  },
  "language_info": {
   "codemirror_mode": {
    "name": "ipython",
    "version": 3
   },
   "file_extension": ".py",
   "mimetype": "text/x-python",
   "name": "python",
   "nbconvert_exporter": "python",
   "pygments_lexer": "ipython3",
   "version": "3.7.6"
  }
 },
 "nbformat": 4,
 "nbformat_minor": 2
}
